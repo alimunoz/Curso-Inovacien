{
  "nbformat": 4,
  "nbformat_minor": 0,
  "metadata": {
    "colab": {
      "provenance": [],
      "authorship_tag": "ABX9TyP2QMM6vLZsJKQC/p2D8BIj",
      "include_colab_link": true
    },
    "kernelspec": {
      "name": "python3",
      "display_name": "Python 3"
    },
    "language_info": {
      "name": "python"
    }
  },
  "cells": [
    {
      "cell_type": "markdown",
      "metadata": {
        "id": "view-in-github",
        "colab_type": "text"
      },
      "source": [
        "<a href=\"https://colab.research.google.com/github/alimunoz/Curso-Inovacien/blob/main/Curso_Inovacien.ipynb\" target=\"_parent\"><img src=\"https://colab.research.google.com/assets/colab-badge.svg\" alt=\"Open In Colab\"/></a>"
      ]
    },
    {
      "cell_type": "markdown",
      "source": [
        "# Estudios curso Inovacien\n",
        "\n"
      ],
      "metadata": {
        "id": "85y6D-Jd6B8U"
      }
    },
    {
      "cell_type": "code",
      "execution_count": null,
      "metadata": {
        "id": "XBIC84gL6Ay9"
      },
      "outputs": [],
      "source": []
    },
    {
      "cell_type": "markdown",
      "source": [
        "# Introducción básica a Python en Google Colab\n",
        "\n",
        "Google Colab permite ejecutar y documentar código Python en la nube, usando celdas de código (Python) y celdas de texto (Markdown)."
      ],
      "metadata": {
        "id": "KdhaWOUs_P3e"
      }
    },
    {
      "cell_type": "markdown",
      "source": [
        "## Tipos de variables en Python\n",
        "\n",
        "### 1. Enteros (`int`)\n",
        "```python\n",
        "numero_entero = 10\n",
        "print(type(numero_entero))  # <class 'int'>\n",
        "```\n",
        "\n",
        "### 2. Flotantes (`float`)\n",
        "```python\n",
        "numero_flotante = 3.14\n",
        "print(type(numero_flotante))  # <class 'float'>\n",
        "```\n",
        "\n",
        "### 3. Cadenas de texto (`str`)\n",
        "```python\n",
        "texto = \"Hola, mundo\"\n",
        "print(type(texto))  # <class 'str'>\n",
        "```\n",
        "\n",
        "### 4. Booleanos (`bool`)\n",
        "```python\n",
        "es_mayor = True\n",
        "print(type(es_mayor))  # <class 'bool'>\n",
        "```\n",
        "\n",
        "### 5. Listas (`list`)\n",
        "```python\n",
        "lista = [1, 2, 3, 4]\n",
        "print(type(lista))  # <class 'list'>\n",
        "```\n",
        "\n",
        "### 6. Tuplas (`tuple`)\n",
        "```python\n",
        "tupla = (1, 2, 3)\n",
        "print(type(tupla))  # <class 'tuple'>\n",
        "```\n",
        "\n",
        "### 7. Diccionarios (`dict`)\n",
        "```python\n",
        "diccionario = {\"nombre\": \"Ana\", \"edad\": 25}\n",
        "print(type(diccionario))  # <class 'dict'>\n",
        "```\n",
        "\n",
        "---\n",
        "\n",
        "## Conceptos básicos de Python en Colab\n",
        "\n",
        "- **Celda de código:** Ejecuta código Python.\n",
        "- **Celda de texto (Markdown):** Documenta y organiza tu notebook.\n",
        "- **Función `print`:** Muestra información en pantalla.\n",
        "- **Comentarios:** Usa `#` para escribir comentarios en el código.\n",
        "\n",
        "```python\n",
        "# Esto es un comentario\n",
        "a = 5  # Asignación de un entero\n",
        "print(a)\n",
        "```\n",
        "\n",
        "---\n",
        "\n",
        "## Ejemplo de Markdown en una celda de texto\n",
        "\n",
        "Puedes usar Markdown para títulos, listas, negritas, itálicas y más.\n",
        "\n",
        "### Títulos\n",
        "\n",
        "# Título grande\n",
        "## Título mediano\n",
        "### Título pequeño\n",
        "\n",
        "### Listas\n",
        "\n",
        "- Elemento 1\n",
        "- Elemento 2\n",
        "\n",
        "### Negrita e itálica\n",
        "\n",
        "**Negrita**, *itálica*\n",
        "\n",
        "### Código en línea\n",
        "\n",
        "`print(\"Hola mundo\")`\n",
        "\n",
        "### Bloques de código\n",
        "\n",
        "```\n",
        "print(\"Hola mundo\")\n",
        "```\n",
        "\n",
        "---\n",
        "\n",
        "## Recursos útiles\n",
        "\n",
        "- [Documentación oficial de Python](https://docs.python.org/es/3/)\n",
        "- [Guía de Markdown en Colab](https://colab.research.google.com/notebooks/markdown_guide.ipynb)"
      ],
      "metadata": {
        "id": "1h7YxSW5_d8O"
      }
    }
  ]
}